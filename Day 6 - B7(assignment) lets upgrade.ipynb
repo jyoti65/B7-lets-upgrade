{
 "cells": [
  {
   "cell_type": "markdown",
   "metadata": {},
   "source": [
    "# Q1. Create a bank account class that has two attributes: owner name and balance . And two methods: deposit and withdraw . As an added requirement ,withdrawals may not exceed the available balance ."
   ]
  },
  {
   "cell_type": "code",
   "execution_count": 12,
   "metadata": {},
   "outputs": [
    {
     "name": "stdout",
     "output_type": "stream",
     "text": [
      "your balance is: 9000\n",
      "new amount after withdrawn: 3000\n"
     ]
    }
   ],
   "source": [
    "class bank_account:\n",
    "    def __init__(self,owner_name,balance):\n",
    "        self.owner_name=owner_name\n",
    "        self.balance=balance\n",
    "    def deposit(self,depo):\n",
    "        self.new_balance=self.balance+depo\n",
    "        print(\"your balance is:\",self.new_balance)\n",
    "    def withdrawn(self,wid):\n",
    "        if self.new_balance>=wid:\n",
    "            amount=self.new_balance-wid\n",
    "            print(\"new amount after withdrawn:\",amount)\n",
    "        else:\n",
    "            print(\"you don't have an enough amount\")\n",
    "            \n",
    "    \n",
    "obj1=bank_account(\"jyoti sharma\",5000)\n",
    "obj1.deposit(4000)\n",
    "obj1.withdrawn(6000)\n"
   ]
  },
  {
   "cell_type": "markdown",
   "metadata": {},
   "source": [
    "# Q2.Create a cone class that has two attributes: R=radius and H=height . And two methods: volume=3.14*(r**2)*(h/3) and surface area= base:3.14*(r**2)  ,side:3.14 * r * (r**2+h**2)^1/2          .Make only one class with functions as in,where required import math."
   ]
  },
  {
   "cell_type": "code",
   "execution_count": 34,
   "metadata": {},
   "outputs": [
    {
     "name": "stdout",
     "output_type": "stream",
     "text": [
      "volume: 791.2800000000001\n"
     ]
    }
   ],
   "source": [
    "import math\n",
    "class cone:\n",
    "    pi=3.14\n",
    "    def __init__(self,radius,height):\n",
    "        self.radius=radius\n",
    "        self.height=height\n",
    "    def volume(self):\n",
    "        vol=cone.pi*(self.radius**2)*(self.height/3)\n",
    "        print(\"volume:\",vol)\n",
    "obj1=cone(6,21)\n",
    "obj1.volume()\n"
   ]
  },
  {
   "cell_type": "code",
   "execution_count": null,
   "metadata": {},
   "outputs": [],
   "source": []
  }
 ],
 "metadata": {
  "kernelspec": {
   "display_name": "Python 3",
   "language": "python",
   "name": "python3"
  },
  "language_info": {
   "codemirror_mode": {
    "name": "ipython",
    "version": 3
   },
   "file_extension": ".py",
   "mimetype": "text/x-python",
   "name": "python",
   "nbconvert_exporter": "python",
   "pygments_lexer": "ipython3",
   "version": "3.7.4"
  }
 },
 "nbformat": 4,
 "nbformat_minor": 2
}
